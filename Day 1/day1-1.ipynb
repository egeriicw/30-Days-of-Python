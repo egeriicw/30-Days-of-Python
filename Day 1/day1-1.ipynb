{
 "cells": [
  {
   "cell_type": "code",
   "execution_count": 4,
   "metadata": {},
   "outputs": [
    {
     "name": "stdout",
     "output_type": "stream",
     "text": [
      "<class 'int'>\n",
      "<class 'float'>\n",
      "<class 'complex'>\n",
      "<class 'str'>\n",
      "<class 'bool'>\n",
      "<class 'list'>\n",
      "<class 'tuple'>\n",
      "<class 'set'>\n",
      "<class 'dict'>\n",
      "2.23606797749979\n"
     ]
    }
   ],
   "source": [
    "# Day 1 - 30 Days of Python\n",
    "# Level 3\n",
    "\n",
    "# 1) \n",
    "\n",
    "print(type(5))          # Integer\n",
    "print(type(5.1))        # Float\n",
    "print(type(1 + 5.1j))   # Complex\n",
    "print(type('five point one'))   # String\n",
    "print(type(True))               #   Boolean\n",
    "print(type([5.1, 5.1, 5.1]))    # list\n",
    "print(type((5.1, 5.1, 5.1)))    # Tuple\n",
    "print(type({5.1, 5.1, 5.1}))    # Set\n",
    "print(type({'input': '5.1'}))   # Dictionary\n",
    "\n",
    "\n",
    "# 2) Euclidean Distance of (2, 3) and (10, 8)\n",
    "\n",
    "p1 = 2\n",
    "q1 = 3\n",
    "p2 = 10\n",
    "q2 = 8\n",
    "\n",
    "euclidean_distance = ((q1 - p1)**2 + (q2 - p2)**2)**(1/2)\n",
    "print(euclidean_distance)\n"
   ]
  }
 ],
 "metadata": {
  "kernelspec": {
   "display_name": "base",
   "language": "python",
   "name": "python3"
  },
  "language_info": {
   "codemirror_mode": {
    "name": "ipython",
    "version": 3
   },
   "file_extension": ".py",
   "mimetype": "text/x-python",
   "name": "python",
   "nbconvert_exporter": "python",
   "pygments_lexer": "ipython3",
   "version": "3.9.13"
  },
  "orig_nbformat": 4
 },
 "nbformat": 4,
 "nbformat_minor": 2
}
